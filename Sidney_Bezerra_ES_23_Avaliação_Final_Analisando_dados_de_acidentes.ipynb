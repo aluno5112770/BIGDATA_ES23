{
  "nbformat": 4,
  "nbformat_minor": 0,
  "metadata": {
    "kernelspec": {
      "display_name": "Python 2",
      "language": "python",
      "name": "python2"
    },
    "language_info": {
      "codemirror_mode": {
        "name": "ipython",
        "version": 2
      },
      "file_extension": ".py",
      "mimetype": "text/x-python",
      "name": "python",
      "nbconvert_exporter": "python",
      "pygments_lexer": "ipython2",
      "version": "2.7.12"
    },
    "colab": {
      "name": "Sidney Bezerra - ES_23 - Avaliação Final - Analisando dados de acidentes.ipynb",
      "provenance": [],
      "collapsed_sections": [],
      "include_colab_link": true
    }
  },
  "cells": [
    {
      "cell_type": "markdown",
      "metadata": {
        "id": "view-in-github",
        "colab_type": "text"
      },
      "source": [
        "<a href=\"https://colab.research.google.com/github/aluno5112770/BIGDATA_ES23/blob/main/Sidney_Bezerra_ES_23_Avalia%C3%A7%C3%A3o_Final_Analisando_dados_de_acidentes.ipynb\" target=\"_parent\"><img src=\"https://colab.research.google.com/assets/colab-badge.svg\" alt=\"Open In Colab\"/></a>"
      ]
    },
    {
      "cell_type": "code",
      "metadata": {
        "id": "zPg_sbkyRPbU"
      },
      "source": [
        "!apt-get install openjdk-8-jdk-headless -qq > /dev/null\n",
        "!wget -q https://archive.apache.org/dist/spark/spark-2.4.4/spark-2.4.4-bin-hadoop2.7.tgz\n",
        "!tar xf spark-2.4.4-bin-hadoop2.7.tgz\n",
        "!pip install -q findspark"
      ],
      "execution_count": 4,
      "outputs": []
    },
    {
      "cell_type": "code",
      "metadata": {
        "id": "ypvJ-mC8Sv6t"
      },
      "source": [
        "import os\n",
        "os.environ[\"JAVA_HOME\"] = \"/usr/lib/jvm/java-8-openjdk-amd64\"\n",
        "os.environ[\"SPARK_HOME\"] = \"/content/spark-2.4.4-bin-hadoop2.7\"\n",
        " \n",
        "# tornar o pyspark \"importável\"\n",
        "import findspark\n",
        "findspark.init('spark-2.4.4-bin-hadoop2.7')\n",
        "\n",
        "from pyspark.sql import SparkSession\n",
        "spark = SparkSession.builder.master('local[*]').getOrCreate()"
      ],
      "execution_count": 5,
      "outputs": []
    },
    {
      "cell_type": "code",
      "source": [
        "#1 importar os arquivos na pasta\n",
        "\n",
        "from google.colab import drive\n",
        "drive.mount('/content/drive')"
      ],
      "metadata": {
        "colab": {
          "base_uri": "https://localhost:8080/"
        },
        "id": "WfGorVblGfot",
        "outputId": "2e7627f0-99ff-4921-807b-1ca085ddc33a"
      },
      "execution_count": 6,
      "outputs": [
        {
          "output_type": "stream",
          "name": "stdout",
          "text": [
            "Drive already mounted at /content/drive; to attempt to forcibly remount, call drive.mount(\"/content/drive\", force_remount=True).\n"
          ]
        }
      ]
    },
    {
      "cell_type": "code",
      "source": [
        "dfbol = spark.read.csv(\"si-bol-2019.csv\", sep=';', header=True, encoding = 'latin1', inferSchema=True)"
      ],
      "metadata": {
        "id": "00Msd7naG55N"
      },
      "execution_count": 12,
      "outputs": []
    },
    {
      "cell_type": "code",
      "source": [
        "dfbol.show()"
      ],
      "metadata": {
        "id": "kUMoOr0uQBLN"
      },
      "execution_count": null,
      "outputs": []
    },
    {
      "cell_type": "code",
      "source": [
        "dflog = spark.read.csv(\"si-log-2019.csv\", sep=';', header=True, encoding = 'latin1', inferSchema=True)"
      ],
      "metadata": {
        "id": "Wj2EC4rcJfR-"
      },
      "execution_count": 13,
      "outputs": []
    },
    {
      "cell_type": "code",
      "source": [
        "dfenv = spark.read.csv(\"si_env-2019.csv\", sep=';', header=True, encoding = 'latin1', inferSchema=True)"
      ],
      "metadata": {
        "id": "A4vx7Kk2Jokx"
      },
      "execution_count": 14,
      "outputs": []
    },
    {
      "cell_type": "code",
      "source": [
        "dfbol.dtypes\n"
      ],
      "metadata": {
        "id": "89LavnchMG8J"
      },
      "execution_count": null,
      "outputs": []
    },
    {
      "cell_type": "code",
      "source": [
        "dflog.dtypes"
      ],
      "metadata": {
        "id": "ATnOnX4AOTga"
      },
      "execution_count": null,
      "outputs": []
    },
    {
      "cell_type": "code",
      "source": [
        "dfenv.dtypes"
      ],
      "metadata": {
        "id": "NEG-rxdqOTNx"
      },
      "execution_count": null,
      "outputs": []
    },
    {
      "cell_type": "code",
      "source": [
        "tabum = dfbol.withColumnRenamed(' NUMERO_BOLETIM', 'nboletim')#.show()"
      ],
      "metadata": {
        "id": "CLRAm0YDORgS"
      },
      "execution_count": 42,
      "outputs": []
    },
    {
      "cell_type": "code",
      "source": [
        "tabdois = dflog.withColumnRenamed('Nº_boletim', 'nboletim')#.show()"
      ],
      "metadata": {
        "id": "VKV5Yxd6PF-2"
      },
      "execution_count": 43,
      "outputs": []
    },
    {
      "cell_type": "code",
      "source": [
        "tabtres = dfenv.withColumnRenamed('num_boletim', 'nboletim')#.show()"
      ],
      "metadata": {
        "id": "jpDy0FPmPFkT"
      },
      "execution_count": 44,
      "outputs": []
    },
    {
      "cell_type": "code",
      "source": [
        "temp_um.show()"
      ],
      "metadata": {
        "id": "xeq6HyQNQbsK"
      },
      "execution_count": null,
      "outputs": []
    },
    {
      "cell_type": "code",
      "source": [
        "temp_um = tabum.join(tabdois, 'nboletim', how='inner')\n",
        "\n"
      ],
      "metadata": {
        "id": "eYqDV3m2MHUn"
      },
      "execution_count": 49,
      "outputs": []
    },
    {
      "cell_type": "code",
      "source": [
        "temp_dois = temp_um.join(tabtres, 'nboletim', how='inner')"
      ],
      "metadata": {
        "id": "C9n6xOq5NDCx"
      },
      "execution_count": 52,
      "outputs": []
    },
    {
      "cell_type": "code",
      "source": [
        "temp_dois.show()"
      ],
      "metadata": {
        "colab": {
          "base_uri": "https://localhost:8080/"
        },
        "id": "UEqhT1xPQ6dx",
        "outputId": "f2344da7-787d-488f-a17f-ea0d0e9e48a9"
      },
      "execution_count": 53,
      "outputs": [
        {
          "output_type": "stream",
          "name": "stdout",
          "text": [
            "+------------------+------------------+----------------+--------------+--------------------+----------+---------------+--------------+---------------+-------------+---------------+---------------+-----------------+---------------------+-------------+-------------+---------------+---------------------+----------+--------------+--------------------+-----------------+---------------------+----------------+-------------+--------------------+---------------+-------------+---------------+--------------------+------------------------+------------------------+---------+--------------------+-----------+---------------------+---------+-----------------+------------------+-------------+---------+---------------+----------------+-----+----------------+-----------+------+-----------+----------------------+----------------------+-----------------+----------------------+--------------------+---------+-----------+\n",
            "|          nboletim| DATA HORA_BOLETIM|   DATA_INCLUSAO| TIPO_ACIDENTE|  DESC_TIPO_ACIDENTE| COD_TEMPO|     DESC_TEMPO| COD_PAVIMENTO|      PAVIMENTO| COD_REGIONAL|  DESC_REGIONAL| ORIGEM_BOLETIM| LOCAL_SINALIZADO| VELOCIDADE_PERMITIDA| COORDENADA_X| COORDENADA_Y| HORA_INFORMADA| INDICADOR_FATALIDADE| VALOR_UPS| DESCRIÇÃO_UPS| DATA_ALTERACAO_SMSA| VALOR_UPS_ANTIGA| DESCRIÇÃO_UPS_ANTIGA|    data_boletim| Nº_municipio|      nome_municipio|seq_logradouros|Nº_logradouro|tipo_logradouro|     nome_logradouro|tipo_logradouro_anterior|nome_logradouro_anterior|Nº_bairro|         nome_bairro|tipo_bairro|descricao_tipo_bairro|Nº_imovel|Nº_imovel_proximo| data_hora_boletim| Nº_envolvido| condutor| cod_severidade| desc_severidade| sexo| cinto_seguranca| Embreagues| Idade| nascimento| categoria_habilitacao| descricao_habilitacao| declaracao_obito| cod_severidade_antiga|     especie_veiculo| pedestre| passageiro|\n",
            "+------------------+------------------+----------------+--------------+--------------------+----------+---------------+--------------+---------------+-------------+---------------+---------------+-----------------+---------------------+-------------+-------------+---------------+---------------------+----------+--------------+--------------------+-----------------+---------------------+----------------+-------------+--------------------+---------------+-------------+---------------+--------------------+------------------------+------------------------+---------+--------------------+-----------+---------------------+---------+-----------------+------------------+-------------+---------+---------------+----------------+-----+----------------+-----------+------+-----------+----------------------+----------------------+-----------------+----------------------+--------------------+---------+-----------+\n",
            "|2019-049379035-001|  09/10/2019 06:46|09/10/2019 07:58|        H01002|ABALROAMENTO COM ...|         0|NAO INFORMADO  |             0|NAO INFORMADO  |           21|NORDESTE       |POLICIA MILITAR|              NÃO|                    0|    612663.14|   7800912.09|            SIM|                  NÃO|         0| NÃO INFORMADO|          00/00/0000|                0|        NÃO INFORMADO|09/10/2019 06:46|            1|BELO HORIZONTE   ...|              1|       117712|            RUA|JOAO ARANTES     ...|                     RUA|    CINQUENTA E UM   ...|      645|CIDADE NOVA      ...|         B | BAIRRO           ...|        0|                0|  09/10/2019 06:46|            2|        S|              1| NAO FATAL      |    F|             SIM|        NÃO|    28| 17/06/1991|                   AB |  HABILITADO NAS CA...|                0|                     0|MOTOCICLETA      ...|        N|          N|\n",
            "|2019-049379035-001|  09/10/2019 06:46|09/10/2019 07:58|        H01002|ABALROAMENTO COM ...|         0|NAO INFORMADO  |             0|NAO INFORMADO  |           21|NORDESTE       |POLICIA MILITAR|              NÃO|                    0|    612663.14|   7800912.09|            SIM|                  NÃO|         0| NÃO INFORMADO|          00/00/0000|                0|        NÃO INFORMADO|09/10/2019 06:46|            1|BELO HORIZONTE   ...|              1|       117712|            RUA|JOAO ARANTES     ...|                     RUA|    CINQUENTA E UM   ...|      645|CIDADE NOVA      ...|         B | BAIRRO           ...|        0|                0|  09/10/2019 06:46|            1|        S|              3| SEM FERIMENTOS |    F|             SIM|        NÃO|    44| 22/05/1975|                   B  |  VEICULOS MOTOR. C...|                0|                     0|AUTOMOVEL        ...|        N|          N|\n",
            "|2019-054073526-001|  04/11/2019 06:19|04/11/2019 06:43|        H06001|ATROPELAMENTO DE ...|         1|BOM            |             1|ASFALTO        |           26|VENDA NOVA     |POLICIA MILITAR|              NÃO|                    0|    610322.45|   7810879.86|            SIM|                  SIM|         0| NÃO INFORMADO|          00/00/0000|                0|        NÃO INFORMADO|04/11/2019 06:19|            1|BELO HORIZONTE   ...|              1|       116606|            RUA|SUDAO            ...|                     RUA|    UM               ...|      634|CANAA            ...|         B | BAIRRO           ...|      234|                0|  04/11/2019 06:19|            2|        N|              2| FATAL          |    F|             NÃO|        NÃO|    72| 13/04/1947|                      |                   ...|                0|                     0|                 ...|        S|          N|\n",
            "|2019-054073526-001|  04/11/2019 06:19|04/11/2019 06:43|        H06001|ATROPELAMENTO DE ...|         1|BOM            |             1|ASFALTO        |           26|VENDA NOVA     |POLICIA MILITAR|              NÃO|                    0|    610322.45|   7810879.86|            SIM|                  SIM|         0| NÃO INFORMADO|          00/00/0000|                0|        NÃO INFORMADO|04/11/2019 06:19|            1|BELO HORIZONTE   ...|              1|       116606|            RUA|SUDAO            ...|                     RUA|    UM               ...|      634|CANAA            ...|         B | BAIRRO           ...|      234|                0|  04/11/2019 06:19|            1|        S|              3| SEM FERIMENTOS |    M|             SIM|        NÃO|    40| 26/10/1979|                   D  |  VEIC. MOTOR. P/ T...|                0|                     0|AUTOMOVEL        ...|        N|          N|\n",
            "|2019-001886486-001|  13/01/2019 16:11|13/01/2019 16:45|        H01002|ABALROAMENTO COM ...|         1|BOM            |             1|ASFALTO        |           25|PAMPULHA       |POLICIA MILITAR|              NÃO|                    0|    610362.11|   7803591.88|            SIM|                  NÃO|         0| NÃO INFORMADO|          00/00/0000|                0|        NÃO INFORMADO|13/01/2019 16:11|            1|BELO HORIZONTE   ...|              2|       116791|            RUA|MARIA VAZ DE MELO...|                     RUA|    TRES             ...|      662|DONA CLARA       ...|         B | BAIRRO           ...|        0|                0|  13/01/2019 16:11|            2|        S|              3| SEM FERIMENTOS |    F|             SIM|        NÃO|    72| 15/12/1946|                   B  |  VEICULOS MOTOR. C...|                0|                     0|AUTOMOVEL        ...|        N|          N|\n",
            "|2019-001886486-001|  13/01/2019 16:11|13/01/2019 16:45|        H01002|ABALROAMENTO COM ...|         1|BOM            |             1|ASFALTO        |           25|PAMPULHA       |POLICIA MILITAR|              NÃO|                    0|    610362.11|   7803591.88|            SIM|                  NÃO|         0| NÃO INFORMADO|          00/00/0000|                0|        NÃO INFORMADO|13/01/2019 16:11|            1|BELO HORIZONTE   ...|              2|       116791|            RUA|MARIA VAZ DE MELO...|                     RUA|    TRES             ...|      662|DONA CLARA       ...|         B | BAIRRO           ...|        0|                0|  13/01/2019 16:11|            1|        S|              1| NAO FATAL      |    M|             SIM|        NÃO|    21| 19/02/1997|                   AB |  HABILITADO NAS CA...|                0|                     0|MOTOCICLETA      ...|        N|          N|\n",
            "|2019-011110287-001|  10/03/2019 00:37|10/03/2019 02:29|        H01002|ABALROAMENTO COM ...|         1|BOM            |             1|ASFALTO        |           21|NORDESTE       |POLICIA MILITAR|              NÃO|                    0|    610537.57|   7801889.99|            SIM|                  NÃO|         0| NÃO INFORMADO|          00/00/0000|                0|        NÃO INFORMADO|10/03/2019 00:37|            1|BELO HORIZONTE   ...|              1|       116892|            RUA|AGENOR JOSE DOS A...|                     RUA|    F                ...|      763|SANTA CRUZ       ...|         B | BAIRRO           ...|        0|                0|  10/03/2019 00:37|            4|        N|              3| SEM FERIMENTOS |    F|             SIM|        NÃO|    36| 31/07/1982|                      |                   ...|                0|                     0|AUTOMOVEL        ...|        N|          S|\n",
            "|2019-011110287-001|  10/03/2019 00:37|10/03/2019 02:29|        H01002|ABALROAMENTO COM ...|         1|BOM            |             1|ASFALTO        |           21|NORDESTE       |POLICIA MILITAR|              NÃO|                    0|    610537.57|   7801889.99|            SIM|                  NÃO|         0| NÃO INFORMADO|          00/00/0000|                0|        NÃO INFORMADO|10/03/2019 00:37|            1|BELO HORIZONTE   ...|              1|       116892|            RUA|AGENOR JOSE DOS A...|                     RUA|    F                ...|      763|SANTA CRUZ       ...|         B | BAIRRO           ...|        0|                0|  10/03/2019 00:37|            3|        N|              3| SEM FERIMENTOS |    M|             SIM|        NÃO|    32| 13/02/1987|                      |                   ...|                0|                     0|AUTOMOVEL        ...|        N|          S|\n",
            "|2019-011110287-001|  10/03/2019 00:37|10/03/2019 02:29|        H01002|ABALROAMENTO COM ...|         1|BOM            |             1|ASFALTO        |           21|NORDESTE       |POLICIA MILITAR|              NÃO|                    0|    610537.57|   7801889.99|            SIM|                  NÃO|         0| NÃO INFORMADO|          00/00/0000|                0|        NÃO INFORMADO|10/03/2019 00:37|            1|BELO HORIZONTE   ...|              1|       116892|            RUA|AGENOR JOSE DOS A...|                     RUA|    F                ...|      763|SANTA CRUZ       ...|         B | BAIRRO           ...|        0|                0|  10/03/2019 00:37|            2|        S|              3| SEM FERIMENTOS |    F|             SIM|        NÃO|    46| 25/09/1972|                   AB |  HABILITADO NAS CA...|                0|                     0|AUTOMOVEL        ...|        N|          N|\n",
            "|2019-011110287-001|  10/03/2019 00:37|10/03/2019 02:29|        H01002|ABALROAMENTO COM ...|         1|BOM            |             1|ASFALTO        |           21|NORDESTE       |POLICIA MILITAR|              NÃO|                    0|    610537.57|   7801889.99|            SIM|                  NÃO|         0| NÃO INFORMADO|          00/00/0000|                0|        NÃO INFORMADO|10/03/2019 00:37|            1|BELO HORIZONTE   ...|              1|       116892|            RUA|AGENOR JOSE DOS A...|                     RUA|    F                ...|      763|SANTA CRUZ       ...|         B | BAIRRO           ...|        0|                0|  10/03/2019 00:37|            1|        S|              1| NAO FATAL      |    M|             SIM|        NÃO|    23| 23/10/1995|                   B  |  VEICULOS MOTOR. C...|                0|                     0|MOTOCICLETA      ...|        N|          N|\n",
            "|2019-003120207-001|  21/01/2019 12:00|21/01/2019 12:32|        H01002|ABALROAMENTO COM ...|         1|BOM            |             1|ASFALTO        |           22|NOROESTE       |POLICIA MILITAR|              NÃO|                    0|          0.0|          0.0|            SIM|                  NÃO|         0| NÃO INFORMADO|          00/00/0000|                0|        NÃO INFORMADO|21/01/2019 12:00|            1|BELO HORIZONTE   ...|              1|       117044|            RUA|CONTORNO         ...|                     RUA|    DO CONTORNO      ...|      684|GLORIA           ...|         B | BAIRRO           ...|        0|                0|  21/01/2019 12:00|            2|        S|              3| SEM FERIMENTOS |    M|             SIM|        NÃO|    26| 05/03/1992|                   AB |  HABILITADO NAS CA...|                0|                     0|AUTOMOVEL        ...|        N|          N|\n",
            "|2019-003120207-001|  21/01/2019 12:00|21/01/2019 12:32|        H01002|ABALROAMENTO COM ...|         1|BOM            |             1|ASFALTO        |           22|NOROESTE       |POLICIA MILITAR|              NÃO|                    0|          0.0|          0.0|            SIM|                  NÃO|         0| NÃO INFORMADO|          00/00/0000|                0|        NÃO INFORMADO|21/01/2019 12:00|            1|BELO HORIZONTE   ...|              1|       117044|            RUA|CONTORNO         ...|                     RUA|    DO CONTORNO      ...|      684|GLORIA           ...|         B | BAIRRO           ...|        0|                0|  21/01/2019 12:00|            1|        S|              1| NAO FATAL      |    M|             SIM|        NÃO|    51| 04/02/1967|                   IN |  INABILITADO      ...|                0|                     0|MOTOCICLETA      ...|        N|          N|\n",
            "|2019-049508784-001|  09/10/2019 17:46|09/10/2019 19:15|        H01002|ABALROAMENTO COM ...|         1|BOM            |             1|ASFALTO        |           19|CENTRO-SUL     |POLICIA MILITAR|              NÃO|                    0|          0.0|          0.0|            SIM|                  NÃO|         0| NÃO INFORMADO|          00/00/0000|                0|        NÃO INFORMADO|09/10/2019 17:46|            1|BELO HORIZONTE   ...|              2|       117044|            RUA|CONTORNO         ...|                     RUA|    DO CONTORNO      ...|      617|BARRO PRETO      ...|         B | BAIRRO           ...|        0|                0|  09/10/2019 17:46|            2|        S|              3| SEM FERIMENTOS |    M|             SIM|        NÃO|    56| 16/01/1963|                   AB |  HABILITADO NAS CA...|                0|                     0|AUTOMOVEL        ...|        N|          N|\n",
            "|2019-049508784-001|  09/10/2019 17:46|09/10/2019 19:15|        H01002|ABALROAMENTO COM ...|         1|BOM            |             1|ASFALTO        |           19|CENTRO-SUL     |POLICIA MILITAR|              NÃO|                    0|          0.0|          0.0|            SIM|                  NÃO|         0| NÃO INFORMADO|          00/00/0000|                0|        NÃO INFORMADO|09/10/2019 17:46|            1|BELO HORIZONTE   ...|              2|       117044|            RUA|CONTORNO         ...|                     RUA|    DO CONTORNO      ...|      617|BARRO PRETO      ...|         B | BAIRRO           ...|        0|                0|  09/10/2019 17:46|            1|        S|              1| NAO FATAL      |    M|             SIM|        NÃO|    20| 06/02/1999|                   B  |  VEICULOS MOTOR. C...|                0|                     0|MOTOCICLETA      ...|        N|          N|\n",
            "|2019-027334450-001|  10/06/2019 16:26|10/06/2019 16:33|        H08002|CHOQUE MECANICO C...|         1|BOM            |             1|ASFALTO        |           21|NORDESTE       |POLICIA MILITAR|              NÃO|                    0|    610985.76|    7802510.7|            SIM|                  NÃO|         0| NÃO INFORMADO|          00/00/0000|                0|        NÃO INFORMADO|10/06/2019 16:26|            1|BELO HORIZONTE   ...|              1|       117044|            RUA|CONTORNO         ...|                     RUA|    DO CONTORNO      ...|      740|PALMARES         ...|         B | BAIRRO           ...|      179|                0|  10/06/2019 16:26|            6|        N|              3| SEM FERIMENTOS |    F|             SIM|        NÃO|    24| 12/04/1995|                      |                   ...|                0|                     0|KOMBI            ...|        N|          S|\n",
            "|2019-027334450-001|  10/06/2019 16:26|10/06/2019 16:33|        H08002|CHOQUE MECANICO C...|         1|BOM            |             1|ASFALTO        |           21|NORDESTE       |POLICIA MILITAR|              NÃO|                    0|    610985.76|    7802510.7|            SIM|                  NÃO|         0| NÃO INFORMADO|          00/00/0000|                0|        NÃO INFORMADO|10/06/2019 16:26|            1|BELO HORIZONTE   ...|              1|       117044|            RUA|CONTORNO         ...|                     RUA|    DO CONTORNO      ...|      740|PALMARES         ...|         B | BAIRRO           ...|      179|                0|  10/06/2019 16:26|            5|        N|              3| SEM FERIMENTOS |    M|             SIM|        NÃO|    19| 23/04/2000|                      |                   ...|                0|                     0|KOMBI            ...|        N|          S|\n",
            "|2019-027334450-001|  10/06/2019 16:26|10/06/2019 16:33|        H08002|CHOQUE MECANICO C...|         1|BOM            |             1|ASFALTO        |           21|NORDESTE       |POLICIA MILITAR|              NÃO|                    0|    610985.76|    7802510.7|            SIM|                  NÃO|         0| NÃO INFORMADO|          00/00/0000|                0|        NÃO INFORMADO|10/06/2019 16:26|            1|BELO HORIZONTE   ...|              1|       117044|            RUA|CONTORNO         ...|                     RUA|    DO CONTORNO      ...|      740|PALMARES         ...|         B | BAIRRO           ...|      179|                0|  10/06/2019 16:26|            4|        N|              1| NAO FATAL      |    F|             SIM|        NÃO|    23| 30/09/1995|                      |                   ...|                0|                     0|KOMBI            ...|        N|          S|\n",
            "|2019-027334450-001|  10/06/2019 16:26|10/06/2019 16:33|        H08002|CHOQUE MECANICO C...|         1|BOM            |             1|ASFALTO        |           21|NORDESTE       |POLICIA MILITAR|              NÃO|                    0|    610985.76|    7802510.7|            SIM|                  NÃO|         0| NÃO INFORMADO|          00/00/0000|                0|        NÃO INFORMADO|10/06/2019 16:26|            1|BELO HORIZONTE   ...|              1|       117044|            RUA|CONTORNO         ...|                     RUA|    DO CONTORNO      ...|      740|PALMARES         ...|         B | BAIRRO           ...|      179|                0|  10/06/2019 16:26|            3|        N|              1| NAO FATAL      |    F|             SIM|        NÃO|    41| 15/09/1977|                      |                   ...|                0|                     0|KOMBI            ...|        N|          S|\n",
            "|2019-027334450-001|  10/06/2019 16:26|10/06/2019 16:33|        H08002|CHOQUE MECANICO C...|         1|BOM            |             1|ASFALTO        |           21|NORDESTE       |POLICIA MILITAR|              NÃO|                    0|    610985.76|    7802510.7|            SIM|                  NÃO|         0| NÃO INFORMADO|          00/00/0000|                0|        NÃO INFORMADO|10/06/2019 16:26|            1|BELO HORIZONTE   ...|              1|       117044|            RUA|CONTORNO         ...|                     RUA|    DO CONTORNO      ...|      740|PALMARES         ...|         B | BAIRRO           ...|      179|                0|  10/06/2019 16:26|            2|        N|              1| NAO FATAL      |    F|             SIM|        NÃO|    54| 28/06/1964|                      |                   ...|                0|                     0|KOMBI            ...|        N|          S|\n",
            "|2019-027334450-001|  10/06/2019 16:26|10/06/2019 16:33|        H08002|CHOQUE MECANICO C...|         1|BOM            |             1|ASFALTO        |           21|NORDESTE       |POLICIA MILITAR|              NÃO|                    0|    610985.76|    7802510.7|            SIM|                  NÃO|         0| NÃO INFORMADO|          00/00/0000|                0|        NÃO INFORMADO|10/06/2019 16:26|            1|BELO HORIZONTE   ...|              1|       117044|            RUA|CONTORNO         ...|                     RUA|    DO CONTORNO      ...|      740|PALMARES         ...|         B | BAIRRO           ...|      179|                0|  10/06/2019 16:26|            1|        S|              1| NAO FATAL      |    M|             SIM|        NÃO|    30| 05/04/1989|                   D  |  VEIC. MOTOR. P/ T...|                0|                     0|KOMBI            ...|        N|          N|\n",
            "+------------------+------------------+----------------+--------------+--------------------+----------+---------------+--------------+---------------+-------------+---------------+---------------+-----------------+---------------------+-------------+-------------+---------------+---------------------+----------+--------------+--------------------+-----------------+---------------------+----------------+-------------+--------------------+---------------+-------------+---------------+--------------------+------------------------+------------------------+---------+--------------------+-----------+---------------------+---------+-----------------+------------------+-------------+---------+---------------+----------------+-----+----------------+-----------+------+-----------+----------------------+----------------------+-----------------+----------------------+--------------------+---------+-----------+\n",
            "only showing top 20 rows\n",
            "\n"
          ]
        }
      ]
    },
    {
      "cell_type": "markdown",
      "metadata": {
        "id": "lecRuw9FROSC"
      },
      "source": [
        "## Avaliação final"
      ]
    },
    {
      "cell_type": "markdown",
      "metadata": {
        "id": "Z5fuZrqjhocL"
      },
      "source": [
        "## 1. Usando o Spark SQL, carregue os arquivos a seguir:\n",
        "\n",
        "+ si-bol-2019.csv - Boletins de ocorrência de acidentes automobilisticos  - https://ckan.pbh.gov.br/dataset/6511cb66-3635-4560-95cc-d0c39aafb547/resource/ab6db535-b706-4e7b-9fdc-3bc1e823401e/download/si-bol-2019.csv\n",
        "\n",
        "+ si_env-2019.csv - Dados sobre os envolvidos nos acidentes - https://ckan.pbh.gov.br/dataset/b127c1d8-9e1b-4820-884a-8bd8129ba5e3/resource/903286ca-b77f-44ad-aa6a-958aa018c33f/download/si_env-2019.csv\n",
        "+ si_log-2019.csv - Dados sobre a localização dos acidentes - https://ckan.pbh.gov.br/dataset/a07412b3-8371-402a-8ca6-68a518bf2403/resource/ad490dd1-7af5-4868-b35f-9471f15be744/download/si-log-2019.csv\n",
        "\n",
        "## 2. Crie uma tabela contendo os campos:\n",
        "\n",
        "+ data_hora \n",
        "+ tipo_acidente \n",
        "+ condicao_tempo \n",
        "+ pavimento\n",
        "+ severidade \n",
        "+ cinto_seguranca \n",
        "+ embreagues \n",
        "+ idade \n",
        "+ sexo\n",
        "+ especie_veiculo  \n",
        "+ nome_municipio\n",
        "+ nome_bairro\n",
        "+ tipo_logradouro \n",
        "+ nome_logradouro\n",
        "+ total_envolvidos\n",
        "\n",
        "## 3. Realize a limpeza dos dados, removendo: \n",
        "+ valores nulos\n",
        "+ dados inválidos\n",
        "\n",
        "## 4. Crie as seguintes consultas: \n",
        "\n",
        "1. Número de acidentes por mês/ano\n",
        "2. Total de acidentes com vítima por bairro;\n",
        "3. Total de acidentes por tipo de pavimento e condição do tempo;\n",
        "4. Total de pessoas acidentadas por tipo de veiculo e pavimento;\n",
        "\n",
        "## 5. Utilizando as biblioteca pandas e matplotlib, exiba o resultado dos itens 1 e 3 em forma de gráficos:\n",
        "\n"
      ]
    },
    {
      "cell_type": "code",
      "metadata": {
        "id": "LzcMs_1pY0DY"
      },
      "source": [
        ""
      ],
      "execution_count": null,
      "outputs": []
    }
  ]
}