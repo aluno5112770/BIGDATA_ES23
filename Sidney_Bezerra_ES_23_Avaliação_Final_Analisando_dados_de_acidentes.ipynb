{
  "nbformat": 4,
  "nbformat_minor": 0,
  "metadata": {
    "kernelspec": {
      "display_name": "Python 2",
      "language": "python",
      "name": "python2"
    },
    "language_info": {
      "codemirror_mode": {
        "name": "ipython",
        "version": 2
      },
      "file_extension": ".py",
      "mimetype": "text/x-python",
      "name": "python",
      "nbconvert_exporter": "python",
      "pygments_lexer": "ipython2",
      "version": "2.7.12"
    },
    "colab": {
      "name": "Sidney Bezerra - ES_23 - Avaliação Final - Analisando dados de acidentes.ipynb",
      "provenance": [],
      "collapsed_sections": [],
      "include_colab_link": true
    }
  },
  "cells": [
    {
      "cell_type": "markdown",
      "metadata": {
        "id": "view-in-github",
        "colab_type": "text"
      },
      "source": [
        "<a href=\"https://colab.research.google.com/github/aluno5112770/BIGDATA_ES23/blob/main/Sidney_Bezerra_ES_23_Avalia%C3%A7%C3%A3o_Final_Analisando_dados_de_acidentes.ipynb\" target=\"_parent\"><img src=\"https://colab.research.google.com/assets/colab-badge.svg\" alt=\"Open In Colab\"/></a>"
      ]
    },
    {
      "cell_type": "code",
      "metadata": {
        "id": "zPg_sbkyRPbU"
      },
      "source": [
        "!apt-get install openjdk-8-jdk-headless -qq > /dev/null\n",
        "!wget -q https://archive.apache.org/dist/spark/spark-2.4.4/spark-2.4.4-bin-hadoop2.7.tgz\n",
        "!tar xf spark-2.4.4-bin-hadoop2.7.tgz\n",
        "!pip install -q findspark"
      ],
      "execution_count": 4,
      "outputs": []
    },
    {
      "cell_type": "code",
      "metadata": {
        "id": "ypvJ-mC8Sv6t"
      },
      "source": [
        "import os\n",
        "os.environ[\"JAVA_HOME\"] = \"/usr/lib/jvm/java-8-openjdk-amd64\"\n",
        "os.environ[\"SPARK_HOME\"] = \"/content/spark-2.4.4-bin-hadoop2.7\"\n",
        " \n",
        "# tornar o pyspark \"importável\"\n",
        "import findspark\n",
        "findspark.init('spark-2.4.4-bin-hadoop2.7')\n",
        "\n",
        "from pyspark.sql import SparkSession\n",
        "spark = SparkSession.builder.master('local[*]').getOrCreate()"
      ],
      "execution_count": 5,
      "outputs": []
    },
    {
      "cell_type": "code",
      "source": [
        "#1 importar os arquivos na pasta\n",
        "\n",
        "from google.colab import drive\n",
        "drive.mount('/content/drive')"
      ],
      "metadata": {
        "colab": {
          "base_uri": "https://localhost:8080/"
        },
        "id": "WfGorVblGfot",
        "outputId": "2e7627f0-99ff-4921-807b-1ca085ddc33a"
      },
      "execution_count": 6,
      "outputs": [
        {
          "output_type": "stream",
          "name": "stdout",
          "text": [
            "Drive already mounted at /content/drive; to attempt to forcibly remount, call drive.mount(\"/content/drive\", force_remount=True).\n"
          ]
        }
      ]
    },
    {
      "cell_type": "code",
      "source": [
        "dfbol = spark.read.csv(\"si-bol-2019.csv\", sep=';', header=True, encoding = 'latin1', inferSchema=True)"
      ],
      "metadata": {
        "id": "00Msd7naG55N"
      },
      "execution_count": 12,
      "outputs": []
    },
    {
      "cell_type": "code",
      "source": [
        "dfbol.show()"
      ],
      "metadata": {
        "id": "kUMoOr0uQBLN"
      },
      "execution_count": null,
      "outputs": []
    },
    {
      "cell_type": "code",
      "source": [
        "dflog = spark.read.csv(\"si-log-2019.csv\", sep=';', header=True, encoding = 'latin1', inferSchema=True)"
      ],
      "metadata": {
        "id": "Wj2EC4rcJfR-"
      },
      "execution_count": 13,
      "outputs": []
    },
    {
      "cell_type": "code",
      "source": [
        "dfenv = spark.read.csv(\"si_env-2019.csv\", sep=';', header=True, encoding = 'latin1', inferSchema=True)"
      ],
      "metadata": {
        "id": "A4vx7Kk2Jokx"
      },
      "execution_count": 14,
      "outputs": []
    },
    {
      "cell_type": "code",
      "source": [
        "dfbol.dtypes\n"
      ],
      "metadata": {
        "id": "89LavnchMG8J"
      },
      "execution_count": null,
      "outputs": []
    },
    {
      "cell_type": "code",
      "source": [
        "dflog.dtypes"
      ],
      "metadata": {
        "id": "ATnOnX4AOTga"
      },
      "execution_count": null,
      "outputs": []
    },
    {
      "cell_type": "code",
      "source": [
        "dfenv.dtypes"
      ],
      "metadata": {
        "id": "NEG-rxdqOTNx"
      },
      "execution_count": null,
      "outputs": []
    },
    {
      "cell_type": "code",
      "source": [
        "tabum = dfbol.withColumnRenamed(' NUMERO_BOLETIM', 'nboletim')#.show()"
      ],
      "metadata": {
        "id": "CLRAm0YDORgS"
      },
      "execution_count": 42,
      "outputs": []
    },
    {
      "cell_type": "code",
      "source": [
        "tabdois = dflog.withColumnRenamed('Nº_boletim', 'nboletim')#.show()"
      ],
      "metadata": {
        "id": "VKV5Yxd6PF-2"
      },
      "execution_count": 43,
      "outputs": []
    },
    {
      "cell_type": "code",
      "source": [
        "tabtres = dfenv.withColumnRenamed('num_boletim', 'nboletim')#.show()"
      ],
      "metadata": {
        "id": "jpDy0FPmPFkT"
      },
      "execution_count": 44,
      "outputs": []
    },
    {
      "cell_type": "code",
      "source": [
        "temp_um.show()"
      ],
      "metadata": {
        "id": "xeq6HyQNQbsK"
      },
      "execution_count": null,
      "outputs": []
    },
    {
      "cell_type": "code",
      "source": [
        "temp_um = tabum.join(tabdois, 'nboletim', how='inner')\n",
        "\n"
      ],
      "metadata": {
        "id": "eYqDV3m2MHUn"
      },
      "execution_count": 49,
      "outputs": []
    },
    {
      "cell_type": "code",
      "source": [
        "temp_dois = temp_um.join(tabtres, 'nboletim', how='inner')"
      ],
      "metadata": {
        "id": "C9n6xOq5NDCx"
      },
      "execution_count": 52,
      "outputs": []
    },
    {
      "cell_type": "code",
      "source": [
        "temp_dois.show()"
      ],
      "metadata": {
        "id": "UEqhT1xPQ6dx"
      },
      "execution_count": null,
      "outputs": []
    },
    {
      "cell_type": "code",
      "source": [
        "temp_dois.dtypes"
      ],
      "metadata": {
        "id": "FBH5OxVTReqH"
      },
      "execution_count": null,
      "outputs": []
    },
    {
      "cell_type": "markdown",
      "metadata": {
        "id": "lecRuw9FROSC"
      },
      "source": [
        "## Avaliação final"
      ]
    },
    {
      "cell_type": "markdown",
      "metadata": {
        "id": "Z5fuZrqjhocL"
      },
      "source": [
        "## 1. Usando o Spark SQL, carregue os arquivos a seguir:\n",
        "\n",
        "+ si-bol-2019.csv - Boletins de ocorrência de acidentes automobilisticos  - https://ckan.pbh.gov.br/dataset/6511cb66-3635-4560-95cc-d0c39aafb547/resource/ab6db535-b706-4e7b-9fdc-3bc1e823401e/download/si-bol-2019.csv\n",
        "\n",
        "+ si_env-2019.csv - Dados sobre os envolvidos nos acidentes - https://ckan.pbh.gov.br/dataset/b127c1d8-9e1b-4820-884a-8bd8129ba5e3/resource/903286ca-b77f-44ad-aa6a-958aa018c33f/download/si_env-2019.csv\n",
        "+ si_log-2019.csv - Dados sobre a localização dos acidentes - https://ckan.pbh.gov.br/dataset/a07412b3-8371-402a-8ca6-68a518bf2403/resource/ad490dd1-7af5-4868-b35f-9471f15be744/download/si-log-2019.csv\n",
        "\n",
        "## 2. Crie uma tabela contendo os campos:\n",
        "\n",
        "+ data_hora \n",
        "+ tipo_acidente \n",
        "+ condicao_tempo \n",
        "+ pavimento\n",
        "+ severidade \n",
        "+ cinto_seguranca \n",
        "+ embreagues \n",
        "+ idade \n",
        "+ sexo\n",
        "+ especie_veiculo  \n",
        "+ nome_municipio\n",
        "+ nome_bairro\n",
        "+ tipo_logradouro \n",
        "+ nome_logradouro\n",
        "+ total_envolvidos\n",
        "\n",
        "## 3. Realize a limpeza dos dados, removendo: \n",
        "+ valores nulos\n",
        "+ dados inválidos\n",
        "\n",
        "## 4. Crie as seguintes consultas: \n",
        "\n",
        "1. Número de acidentes por mês/ano\n",
        "2. Total de acidentes com vítima por bairro;\n",
        "3. Total de acidentes por tipo de pavimento e condição do tempo;\n",
        "4. Total de pessoas acidentadas por tipo de veiculo e pavimento;\n",
        "\n",
        "## 5. Utilizando as biblioteca pandas e matplotlib, exiba o resultado dos itens 1 e 3 em forma de gráficos:\n",
        "\n"
      ]
    },
    {
      "cell_type": "code",
      "metadata": {
        "id": "LzcMs_1pY0DY"
      },
      "source": [
        ""
      ],
      "execution_count": null,
      "outputs": []
    }
  ]
}